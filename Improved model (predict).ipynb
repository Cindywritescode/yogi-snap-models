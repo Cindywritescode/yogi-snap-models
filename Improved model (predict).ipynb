{
 "cells": [
  {
   "cell_type": "markdown",
   "source": [
    "# Prediction with saved model"
   ],
   "metadata": {
    "collapsed": false
   }
  },
  {
   "cell_type": "code",
   "execution_count": 80,
   "outputs": [],
   "source": [
    "import pathlib\n",
    "import numpy as np\n",
    "\n",
    "import tensorflow as tf\n",
    "from tensorflow import keras\n",
    "from tensorflow.keras import layers"
   ],
   "metadata": {
    "collapsed": false
   }
  },
  {
   "cell_type": "markdown",
   "source": [
    "### Config"
   ],
   "metadata": {
    "collapsed": false
   }
  },
  {
   "cell_type": "code",
   "execution_count": 81,
   "outputs": [],
   "source": [
    "img_height = 180\n",
    "img_width = 180\n",
    "\n",
    "class_names = ['Downdog', 'Goddess', 'Plank', 'Tree', 'Warrior2']"
   ],
   "metadata": {
    "collapsed": false
   }
  },
  {
   "cell_type": "code",
   "execution_count": 82,
   "metadata": {
    "collapsed": true
   },
   "outputs": [
    {
     "name": "stdout",
     "output_type": "stream",
     "text": [
      "Model: \"sequential_21\"\n",
      "_________________________________________________________________\n",
      " Layer (type)                Output Shape              Param #   \n",
      "=================================================================\n",
      " rescaling_10 (Rescaling)    (None, 180, 180, 3)       0         \n",
      "                                                                 \n",
      " conv2d_40 (Conv2D)          (None, 180, 180, 16)      448       \n",
      "                                                                 \n",
      " max_pooling2d_40 (MaxPoolin  (None, 90, 90, 16)       0         \n",
      " g2D)                                                            \n",
      "                                                                 \n",
      " conv2d_41 (Conv2D)          (None, 90, 90, 64)        9280      \n",
      "                                                                 \n",
      " max_pooling2d_41 (MaxPoolin  (None, 45, 45, 64)       0         \n",
      " g2D)                                                            \n",
      "                                                                 \n",
      " conv2d_42 (Conv2D)          (None, 45, 45, 128)       73856     \n",
      "                                                                 \n",
      " max_pooling2d_42 (MaxPoolin  (None, 22, 22, 128)      0         \n",
      " g2D)                                                            \n",
      "                                                                 \n",
      " conv2d_43 (Conv2D)          (None, 22, 22, 32)        36896     \n",
      "                                                                 \n",
      " max_pooling2d_43 (MaxPoolin  (None, 11, 11, 32)       0         \n",
      " g2D)                                                            \n",
      "                                                                 \n",
      " dropout_10 (Dropout)        (None, 11, 11, 32)        0         \n",
      "                                                                 \n",
      " flatten_10 (Flatten)        (None, 3872)              0         \n",
      "                                                                 \n",
      " dense_10 (Dense)            (None, 128)               495744    \n",
      "                                                                 \n",
      " outputs (Dense)             (None, 5)                 645       \n",
      "                                                                 \n",
      "=================================================================\n",
      "Total params: 616,869\n",
      "Trainable params: 616,869\n",
      "Non-trainable params: 0\n",
      "_________________________________________________________________\n"
     ]
    }
   ],
   "source": [
    "# Load model\n",
    "saved_improved_model = keras.models.load_model('saved_model/improved_model')\n",
    "# Check its architecture\n",
    "saved_improved_model.summary()"
   ]
  },
  {
   "cell_type": "markdown",
   "source": [
    "### Evaluate"
   ],
   "metadata": {
    "collapsed": false
   }
  },
  {
   "cell_type": "code",
   "execution_count": 87,
   "outputs": [
    {
     "name": "stdout",
     "output_type": "stream",
     "text": [
      "Found 40 files belonging to 5 classes.\n",
      "Evaluate\n",
      "1/1 [==============================] - 0s 145ms/step - loss: 2.5852 - accuracy: 0.7000\n"
     ]
    },
    {
     "data": {
      "text/plain": "{'loss': 2.585174083709717, 'accuracy': 0.699999988079071}"
     },
     "execution_count": 87,
     "metadata": {},
     "output_type": "execute_result"
    }
   ],
   "source": [
    "test_dataset = keras.utils.image_dataset_from_directory(\n",
    "    pathlib.Path(\"data/sample/\"),\n",
    "    image_size=(img_height, img_width),\n",
    "    batch_size=128\n",
    ")\n",
    "\n",
    "print(\"Evaluate\")\n",
    "result = saved_improved_model.evaluate(test_dataset)\n",
    "dict(zip(saved_improved_model.metrics_names, result))"
   ],
   "metadata": {
    "collapsed": false
   }
  },
  {
   "cell_type": "markdown",
   "source": [
    "### Predict"
   ],
   "metadata": {
    "collapsed": false
   }
  },
  {
   "cell_type": "code",
   "execution_count": 86,
   "outputs": [
    {
     "name": "stdout",
     "output_type": "stream",
     "text": [
      "(40,)\n",
      "2/2 [==============================] - 0s 25ms/step\n",
      "Warrior2: most likely belongs to Warrior2 with a 77.22 percent confidence.\n",
      "Tree: most likely belongs to Goddess with a 96.96 percent confidence.\n",
      "Downdog: most likely belongs to Downdog with a 99.10 percent confidence.\n",
      "Goddess: most likely belongs to Goddess with a 54.32 percent confidence.\n",
      "Goddess: most likely belongs to Goddess with a 89.07 percent confidence.\n",
      "Plank: most likely belongs to Plank with a 85.93 percent confidence.\n",
      "Tree: most likely belongs to Plank with a 26.73 percent confidence.\n",
      "Goddess: most likely belongs to Goddess with a 95.61 percent confidence.\n",
      "Downdog: most likely belongs to Downdog with a 99.76 percent confidence.\n",
      "Downdog: most likely belongs to Downdog with a 99.84 percent confidence.\n",
      "Warrior2: most likely belongs to Warrior2 with a 80.57 percent confidence.\n",
      "Tree: most likely belongs to Goddess with a 96.63 percent confidence.\n",
      "Warrior2: most likely belongs to Warrior2 with a 99.86 percent confidence.\n",
      "Downdog: most likely belongs to Downdog with a 94.97 percent confidence.\n",
      "Downdog: most likely belongs to Downdog with a 97.32 percent confidence.\n",
      "Warrior2: most likely belongs to Downdog with a 61.87 percent confidence.\n",
      "Downdog: most likely belongs to Downdog with a 88.65 percent confidence.\n",
      "Tree: most likely belongs to Goddess with a 97.09 percent confidence.\n",
      "Plank: most likely belongs to Downdog with a 93.34 percent confidence.\n",
      "Plank: most likely belongs to Downdog with a 97.53 percent confidence.\n",
      "Downdog: most likely belongs to Downdog with a 99.55 percent confidence.\n",
      "Tree: most likely belongs to Goddess with a 34.33 percent confidence.\n",
      "Downdog: most likely belongs to Downdog with a 95.77 percent confidence.\n",
      "Plank: most likely belongs to Plank with a 88.07 percent confidence.\n",
      "Warrior2: most likely belongs to Warrior2 with a 70.23 percent confidence.\n",
      "Tree: most likely belongs to Goddess with a 94.87 percent confidence.\n",
      "Goddess: most likely belongs to Goddess with a 98.41 percent confidence.\n",
      "Goddess: most likely belongs to Goddess with a 98.42 percent confidence.\n",
      "Plank: most likely belongs to Downdog with a 96.48 percent confidence.\n",
      "Plank: most likely belongs to Plank with a 83.79 percent confidence.\n",
      "Tree: most likely belongs to Warrior2 with a 72.49 percent confidence.\n",
      "Plank: most likely belongs to Plank with a 95.13 percent confidence.\n",
      "Warrior2: most likely belongs to Warrior2 with a 99.90 percent confidence.\n",
      "Downdog: most likely belongs to Downdog with a 99.94 percent confidence.\n",
      "Goddess: most likely belongs to Goddess with a 90.57 percent confidence.\n",
      "Tree: most likely belongs to Warrior2 with a 83.68 percent confidence.\n",
      "Downdog: most likely belongs to Downdog with a 97.21 percent confidence.\n",
      "Warrior2: most likely belongs to Warrior2 with a 92.79 percent confidence.\n",
      "Plank: most likely belongs to Plank with a 80.43 percent confidence.\n",
      "Downdog: most likely belongs to Downdog with a 97.55 percent confidence.\n"
     ]
    }
   ],
   "source": [
    "image_batch, labels_batch = next(iter(test_dataset))\n",
    "\n",
    "print(labels_batch.shape)\n",
    "\n",
    "predictions = saved_improved_model.predict(image_batch)\n",
    "scores = tf.nn.softmax(predictions)\n",
    "\n",
    "for i, score in list(enumerate(scores)):\n",
    "    print(\n",
    "    \"{}: most likely belongs to {} with a {:.2f} percent confidence.\"\n",
    "    .format(class_names[labels_batch[i]], class_names[np.argmax(score)], 100 * np.max(score))\n",
    ")"
   ],
   "metadata": {
    "collapsed": false
   }
  }
 ],
 "metadata": {
  "kernelspec": {
   "display_name": "Python 3",
   "language": "python",
   "name": "python3"
  },
  "language_info": {
   "codemirror_mode": {
    "name": "ipython",
    "version": 2
   },
   "file_extension": ".py",
   "mimetype": "text/x-python",
   "name": "python",
   "nbconvert_exporter": "python",
   "pygments_lexer": "ipython2",
   "version": "2.7.6"
  }
 },
 "nbformat": 4,
 "nbformat_minor": 0
}
